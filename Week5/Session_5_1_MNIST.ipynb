{
  "nbformat": 4,
  "nbformat_minor": 0,
  "metadata": {
    "colab": {
      "name": "Session_5_1_MNIST.ipynb",
      "provenance": [],
      "collapsed_sections": [],
      "include_colab_link": true
    },
    "kernelspec": {
      "name": "python3",
      "display_name": "Python 3"
    },
    "accelerator": "GPU"
  },
  "cells": [
    {
      "cell_type": "markdown",
      "metadata": {
        "id": "view-in-github",
        "colab_type": "text"
      },
      "source": [
        "<a href=\"https://colab.research.google.com/github/deepakgowtham/EVA4/blob/master/Week5/Session_5_1_MNIST.ipynb\" target=\"_parent\"><img src=\"https://colab.research.google.com/assets/colab-badge.svg\" alt=\"Open In Colab\"/></a>"
      ]
    },
    {
      "cell_type": "code",
      "metadata": {
        "id": "0m2JWFliFfKT",
        "colab_type": "code",
        "colab": {}
      },
      "source": [
        "from __future__ import print_function\n",
        "import torch\n",
        "import torch.nn as nn\n",
        "import torch.nn.functional as F\n",
        "import torch.optim as optim\n",
        "from torchvision import datasets, transforms\n",
        "from torch.optim.lr_scheduler import StepLR\n",
        "import matplotlib.pyplot as plt\n",
        "%matplotlib inline\n",
        "import numpy as np\n"
      ],
      "execution_count": 0,
      "outputs": []
    },
    {
      "cell_type": "code",
      "metadata": {
        "id": "DqTWLaM5GHgH",
        "colab_type": "code",
        "colab": {
          "base_uri": "https://localhost:8080/",
          "height": 34
        },
        "outputId": "9cf0570a-1c0a-4d11-fd01-1e3049429862"
      },
      "source": [
        "use_cuda = torch.cuda.is_available()\n",
        "\n",
        "cuda = torch.cuda.is_available()\n",
        "print(\"CUDA Available?\", cuda)\n",
        "SEED=1\n",
        "# For reproducibility\n",
        "torch.manual_seed(SEED)\n",
        "\n",
        "if cuda:\n",
        "    torch.cuda.manual_seed(SEED)\n",
        "\n",
        "torch.manual_seed(1)\n",
        "# Train Phase transformations\n",
        "train_transforms = transforms.Compose([\n",
        "                                      #  transforms.Resize((28, 28)),\n",
        "                                      #  transforms.ColorJitter(brightness=0.10, contrast=0.1, saturation=0.10, hue=0.1),\n",
        "                                       transforms.ToTensor(),\n",
        "                                       transforms.Normalize((0.1307,), (0.3081,)) # The mean and std have to be sequences (e.g., tuples), therefore you should add a comma after the values. \n",
        "                                       # Note the difference between (0.1307) and (0.1307,)\n",
        "                                       ])\n",
        "\n",
        "# Test Phase transformations\n",
        "test_transforms = transforms.Compose([\n",
        "                                      #  transforms.Resize((28, 28)),\n",
        "                                      #  transforms.ColorJitter(brightness=0.10, contrast=0.1, saturation=0.10, hue=0.1),\n",
        "                                       transforms.ToTensor(),\n",
        "                                       transforms.Normalize((0.1307,), (0.3081,))\n",
        "                                       ])\n",
        "\n",
        "train = datasets.MNIST('./data', train=True, download=True, transform=train_transforms)\n",
        "test = datasets.MNIST('./data', train=False, download=True, transform=test_transforms)\n",
        "\n",
        "# dataloader arguments - something you'll fetch these from cmdprmt\n",
        "dataloader_args = dict(shuffle=True, batch_size=64, num_workers=4, pin_memory=True) if cuda else dict(shuffle=True, batch_size=64)\n",
        "\n",
        "# train dataloader\n",
        "train_loader = torch.utils.data.DataLoader(train, **dataloader_args)\n",
        "\n",
        "# test dataloader\n",
        "test_loader = torch.utils.data.DataLoader(test, **dataloader_args)"
      ],
      "execution_count": 3,
      "outputs": [
        {
          "output_type": "stream",
          "text": [
            "CUDA Available? True\n"
          ],
          "name": "stdout"
        }
      ]
    },
    {
      "cell_type": "code",
      "metadata": {
        "id": "4EF6ehE_tIzl",
        "colab_type": "code",
        "colab": {
          "base_uri": "https://localhost:8080/",
          "height": 396
        },
        "outputId": "c62bfe1f-253d-4311-d193-cadabe664927"
      },
      "source": [
        "images, label = next(iter(train_loader))\n",
        "fig = plt.figure(figsize=(20, 8))\n",
        "for i in range(20):\n",
        "  ax=fig.add_subplot(2, 10, i+1)\n",
        "  img= np.squeeze(images[i].numpy())\n",
        "  ax.imshow(img, cmap='gray')\n",
        "  ax.set_title(str(label[i].item()))\n",
        "\n"
      ],
      "execution_count": 4,
      "outputs": [
        {
          "output_type": "display_data",
          "data": {
            "image/png": "[encoded data removed]",
            "text/plain": [
              "<Figure size 1440x576 with 20 Axes>"
            ]
          },
          "metadata": {
            "tags": []
          }
        }
      ]
    },
    {
      "cell_type": "code",
      "metadata": {
        "id": "yczq_bXM50Zp",
        "colab_type": "code",
        "colab": {
          "base_uri": "https://localhost:8080/",
          "height": 863
        },
        "outputId": "cec801b2-492e-4e61-a1a6-dabac4872a9d"
      },
      "source": [
        "width, height = img.shape\n",
        "fig= plt.figure(figsize=(15,15))\n",
        "ax= fig.add_subplot(1,1,1)\n",
        "ax.imshow(img, cmap='gray')\n",
        "thresh =img.max()/2.5\n",
        "for x in range(width):\n",
        "  for y in range(height):\n",
        "    val= round(img[x][y],1) if img[x][y] !=0 else 0\n",
        "    ax.annotate(str(val), xy= (y,x),\n",
        "                color='white' if val< thresh else 'black')"
      ],
      "execution_count": 5,
      "outputs": [
        {
          "output_type": "display_data",
          "data": {
            "image/png": "[encoded data removed]",
            "text/plain": [
              "<Figure size 1080x1080 with 1 Axes>"
            ]
          },
          "metadata": {
            "tags": []
          }
        }
      ]
    },
    {
      "cell_type": "code",
      "metadata": {
        "id": "hWYQbG3a9y_n",
        "colab_type": "code",
        "colab": {
          "base_uri": "https://localhost:8080/",
          "height": 221
        },
        "outputId": "c8f24531-01dd-48bd-dc1e-f15f7f4d4973"
      },
      "source": [
        "train_data = train.train_data\n",
        "train_data = train.transform(train_data.numpy())\n",
        "\n",
        "print('[Train]')\n",
        "print(' - Numpy Shape:', train.train_data.cpu().numpy().shape)\n",
        "print(' - Tensor Shape:', train.train_data.size())\n",
        "print(' - min:', torch.min(train_data))\n",
        "print(' - max:', torch.max(train_data))\n",
        "print(' - mean:', torch.mean(train_data))\n",
        "print(' - std:', torch.std(train_data))\n",
        "print(' - var:', torch.var(train_data))\n",
        "\n",
        "dataiter = iter(train_loader)\n",
        "images, labels = dataiter.next()\n",
        "\n",
        "print(images.shape)\n",
        "print(labels.shape)"
      ],
      "execution_count": 6,
      "outputs": [
        {
          "output_type": "stream",
          "text": [
            "/usr/local/lib/python3.6/dist-packages/torchvision/datasets/mnist.py:55: UserWarning: train_data has been renamed data\n",
            "  warnings.warn(\"train_data has been renamed data\")\n"
          ],
          "name": "stderr"
        },
        {
          "output_type": "stream",
          "text": [
            "[Train]\n",
            " - Numpy Shape: (60000, 28, 28)\n",
            " - Tensor Shape: torch.Size([60000, 28, 28])\n",
            " - min: tensor(-0.4242)\n",
            " - max: tensor(2.8215)\n",
            " - mean: tensor(0.0009)\n",
            " - std: tensor(1.0000)\n",
            " - var: tensor(1.0001)\n",
            "torch.Size([64, 1, 28, 28])\n",
            "torch.Size([64])\n"
          ],
          "name": "stdout"
        }
      ]
    },
    {
      "cell_type": "code",
      "metadata": {
        "id": "Ee_K7a6nZxD1",
        "colab_type": "code",
        "colab": {}
      },
      "source": [
        "class Net2(nn.Module):\n",
        "  def __init__(self):\n",
        "    super(Net2, self).__init__()\n",
        "    self.conv_block1= nn.Sequential(\n",
        "        nn.Conv2d(in_channels=1, out_channels=8, kernel_size=(3,3), bias=False),\n",
        "        nn.BatchNorm2d(8),\n",
        "        nn.ReLU(),#output size 26\n",
        "        nn.Conv2d(in_channels=8, out_channels=8, kernel_size=(3,3),  bias=False),\n",
        "        nn.BatchNorm2d(8),\n",
        "        nn.ReLU(), #output size 24\n",
        "    )\n",
        "    self.trans_block1= nn.Sequential(\n",
        "        nn.MaxPool2d(2,2),#output size 14\n",
        "        \n",
        "    )\n",
        "    self.conv_block2= nn.Sequential(\n",
        "        nn.Conv2d(in_channels=8, out_channels=8, kernel_size=(3,3), bias=False),\n",
        "        nn.BatchNorm2d(8),\n",
        "        nn.ReLU(),  #output size 10\n",
        "\n",
        "        nn.Conv2d(in_channels=8, out_channels=16, kernel_size=(3,3), bias=False),\n",
        "        nn.BatchNorm2d(16),\n",
        "        nn.ReLU(), #output size 8\n",
        "\n",
        "       \n",
        "\n",
        "        nn.Conv2d(in_channels=16, out_channels=32, kernel_size=(3,3), bias=False),\n",
        "        nn.BatchNorm2d(32),\n",
        "        nn.ReLU() #output size 6\n",
        "    )\n",
        "\n",
        "    self.trans_block2= nn.Sequential(\n",
        "        nn.AvgPool2d(kernel_size=6),\n",
        "        nn.Conv2d(in_channels=32, out_channels=10, kernel_size=(1,1))\n",
        "    )\n",
        "\n",
        "  def forward(self, x):\n",
        "    x= self.conv_block1(x)\n",
        "    x= self.trans_block1(x)\n",
        "    x= self.conv_block2(x)\n",
        "    x= self.trans_block2(x)\n",
        "    x = x.view(-1, 10)\n",
        "    return F.log_softmax(x)\n"
      ],
      "execution_count": 0,
      "outputs": []
    },
    {
      "cell_type": "code",
      "metadata": {
        "colab_type": "code",
        "id": "xdydjYTZFyi3",
        "outputId": "8cc8cc1a-6443-462f-b7c6-0609e3190ef7",
        "colab": {
          "base_uri": "https://localhost:8080/",
          "height": 598
        }
      },
      "source": [
        "!pip install torchsummary\n",
        "from torchsummary import summary\n",
        "use_cuda = torch.cuda.is_available()\n",
        "device = torch.device(\"cuda\" if use_cuda else \"cpu\")\n",
        "model = Net2().to(device)\n",
        "summary(model, input_size=(1, 28, 28))"
      ],
      "execution_count": 8,
      "outputs": [
        {
          "output_type": "stream",
          "text": [
            "Requirement already satisfied: torchsummary in /usr/local/lib/python3.6/dist-packages (1.5.1)\n",
            "----------------------------------------------------------------\n",
            "        Layer (type)               Output Shape         Param #\n",
            "================================================================\n",
            "            Conv2d-1            [-1, 8, 26, 26]              72\n",
            "       BatchNorm2d-2            [-1, 8, 26, 26]              16\n",
            "              ReLU-3            [-1, 8, 26, 26]               0\n",
            "            Conv2d-4            [-1, 8, 24, 24]             576\n",
            "       BatchNorm2d-5            [-1, 8, 24, 24]              16\n",
            "              ReLU-6            [-1, 8, 24, 24]               0\n",
            "         MaxPool2d-7            [-1, 8, 12, 12]               0\n",
            "            Conv2d-8            [-1, 8, 10, 10]             576\n",
            "       BatchNorm2d-9            [-1, 8, 10, 10]              16\n",
            "             ReLU-10            [-1, 8, 10, 10]               0\n",
            "           Conv2d-11             [-1, 16, 8, 8]           1,152\n",
            "      BatchNorm2d-12             [-1, 16, 8, 8]              32\n",
            "             ReLU-13             [-1, 16, 8, 8]               0\n",
            "           Conv2d-14             [-1, 32, 6, 6]           4,608\n",
            "      BatchNorm2d-15             [-1, 32, 6, 6]              64\n",
            "             ReLU-16             [-1, 32, 6, 6]               0\n",
            "        AvgPool2d-17             [-1, 32, 1, 1]               0\n",
            "           Conv2d-18             [-1, 10, 1, 1]             330\n",
            "================================================================\n",
            "Total params: 7,458\n",
            "Trainable params: 7,458\n",
            "Non-trainable params: 0\n",
            "----------------------------------------------------------------\n",
            "Input size (MB): 0.00\n",
            "Forward/backward pass size (MB): 0.31\n",
            "Params size (MB): 0.03\n",
            "Estimated Total Size (MB): 0.34\n",
            "----------------------------------------------------------------\n"
          ],
          "name": "stdout"
        },
        {
          "output_type": "stream",
          "text": [
            "/usr/local/lib/python3.6/dist-packages/ipykernel_launcher.py:43: UserWarning: Implicit dimension choice for log_softmax has been deprecated. Change the call to include dim=X as an argument.\n"
          ],
          "name": "stderr"
        }
      ]
    },
    {
      "cell_type": "code",
      "metadata": {
        "id": "8fDefDhaFlwH",
        "colab_type": "code",
        "colab": {}
      },
      "source": [
        "from tqdm import tqdm\n",
        "\n",
        "train_losses = []\n",
        "test_losses = []\n",
        "train_acc = []\n",
        "test_acc = []\n",
        "\n",
        "def train(model, device, train_loader, optimizer, epoch):\n",
        "  model.train()\n",
        "  pbar = tqdm(train_loader)\n",
        "  correct = 0\n",
        "  processed = 0\n",
        "  for batch_idx, (data, target) in enumerate(pbar):\n",
        "    # get samples\n",
        "    data, target = data.to(device), target.to(device)\n",
        "\n",
        "    # Init\n",
        "    optimizer.zero_grad()\n",
        "    # In PyTorch, we need to set the gradients to zero before starting to do backpropragation because PyTorch accumulates the gradients on subsequent backward passes. \n",
        "    # Because of this, when you start your training loop, ideally you should zero out the gradients so that you do the parameter update correctly.\n",
        "\n",
        "    # Predict\n",
        "    y_pred = model(data)\n",
        "\n",
        "    # Calculate loss\n",
        "    loss = F.nll_loss(y_pred, target)\n",
        "    train_losses.append(loss)\n",
        "\n",
        "    # Backpropagation\n",
        "    loss.backward()\n",
        "    optimizer.step()\n",
        "\n",
        "    # Update pbar-tqdm\n",
        "    \n",
        "    pred = y_pred.argmax(dim=1, keepdim=True)  # get the index of the max log-probability\n",
        "    correct += pred.eq(target.view_as(pred)).sum().item()\n",
        "    processed += len(data)\n",
        "\n",
        "    pbar.set_description(desc= f'Loss={loss.item()} Batch_id={batch_idx} Accuracy={100*correct/processed:0.2f}')\n",
        "  train_acc.append(100*correct/processed)\n",
        "\n",
        "def test(model, device, test_loader):\n",
        "    model.eval()\n",
        "    test_loss = 0\n",
        "    correct = 0\n",
        "    with torch.no_grad():\n",
        "        for data, target in test_loader:\n",
        "            data, target = data.to(device), target.to(device)\n",
        "            output = model(data)\n",
        "            test_loss += F.nll_loss(output, target, reduction='sum').item()  # sum up batch loss\n",
        "            pred = output.argmax(dim=1, keepdim=True)  # get the index of the max log-probability\n",
        "            correct += pred.eq(target.view_as(pred)).sum().item()\n",
        "\n",
        "    test_loss /= len(test_loader.dataset)\n",
        "    test_losses.append(test_loss)\n",
        "\n",
        "    print('\\nTest set: Average loss: {:.4f}, Accuracy: {}/{} ({:.2f}%)\\n'.format(\n",
        "        test_loss, correct, len(test_loader.dataset),\n",
        "        100. * correct / len(test_loader.dataset)))\n",
        "    \n",
        "    test_acc.append(100. * correct / len(test_loader.dataset))"
      ],
      "execution_count": 0,
      "outputs": []
    },
    {
      "cell_type": "code",
      "metadata": {
        "id": "MMWbLWO6FuHb",
        "colab_type": "code",
        "outputId": "babc0202-f2fe-48c9-891c-c68eb8a6bd5f",
        "colab": {
          "base_uri": "https://localhost:8080/",
          "height": 1000
        }
      },
      "source": [
        "device= 'cuda' if torch.cuda.is_available() else 'cpu'\n",
        "model = Net2().to(device)\n",
        "optimizer = optim.SGD(model.parameters(), lr=0.3)\n",
        "#scheduler = StepLR(optimizer, step_size=1, gamma=0.83)\n",
        "\n",
        "for epoch in range(1, 16):\n",
        "    print(f'Epoch: {epoch}')\n",
        "    train(model, device, train_loader, optimizer, epoch)\n",
        "    test(model, device, test_loader)\n",
        "    #scheduler.step()"
      ],
      "execution_count": 10,
      "outputs": [
        {
          "output_type": "stream",
          "text": [
            "\r  0%|          | 0/938 [00:00<?, ?it/s]"
          ],
          "name": "stderr"
        },
        {
          "output_type": "stream",
          "text": [
            "Epoch: 1\n"
          ],
          "name": "stdout"
        },
        {
          "output_type": "stream",
          "text": [
            "/usr/local/lib/python3.6/dist-packages/ipykernel_launcher.py:43: UserWarning: Implicit dimension choice for log_softmax has been deprecated. Change the call to include dim=X as an argument.\n",
            "Loss=0.015135079622268677 Batch_id=937 Accuracy=93.81: 100%|██████████| 938/938 [00:17<00:00, 54.97it/s]\n",
            "  0%|          | 0/938 [00:00<?, ?it/s]"
          ],
          "name": "stderr"
        },
        {
          "output_type": "stream",
          "text": [
            "\n",
            "Test set: Average loss: 0.0650, Accuracy: 9808/10000 (98.08%)\n",
            "\n",
            "Epoch: 2\n"
          ],
          "name": "stdout"
        },
        {
          "output_type": "stream",
          "text": [
            "Loss=0.1579531580209732 Batch_id=937 Accuracy=98.11: 100%|██████████| 938/938 [00:16<00:00, 55.32it/s]\n",
            "  0%|          | 0/938 [00:00<?, ?it/s]"
          ],
          "name": "stderr"
        },
        {
          "output_type": "stream",
          "text": [
            "\n",
            "Test set: Average loss: 0.0745, Accuracy: 9765/10000 (97.65%)\n",
            "\n",
            "Epoch: 3\n"
          ],
          "name": "stdout"
        },
        {
          "output_type": "stream",
          "text": [
            "Loss=0.011025160551071167 Batch_id=937 Accuracy=98.49: 100%|██████████| 938/938 [00:16<00:00, 55.42it/s]\n",
            "  0%|          | 0/938 [00:00<?, ?it/s]"
          ],
          "name": "stderr"
        },
        {
          "output_type": "stream",
          "text": [
            "\n",
            "Test set: Average loss: 0.0343, Accuracy: 9895/10000 (98.95%)\n",
            "\n",
            "Epoch: 4\n"
          ],
          "name": "stdout"
        },
        {
          "output_type": "stream",
          "text": [
            "Loss=0.012002065777778625 Batch_id=937 Accuracy=98.74: 100%|██████████| 938/938 [00:16<00:00, 55.59it/s]\n",
            "  0%|          | 0/938 [00:00<?, ?it/s]"
          ],
          "name": "stderr"
        },
        {
          "output_type": "stream",
          "text": [
            "\n",
            "Test set: Average loss: 0.0320, Accuracy: 9900/10000 (99.00%)\n",
            "\n",
            "Epoch: 5\n"
          ],
          "name": "stdout"
        },
        {
          "output_type": "stream",
          "text": [
            "Loss=0.02165590226650238 Batch_id=937 Accuracy=98.89: 100%|██████████| 938/938 [00:16<00:00, 55.93it/s]\n",
            "  0%|          | 0/938 [00:00<?, ?it/s]"
          ],
          "name": "stderr"
        },
        {
          "output_type": "stream",
          "text": [
            "\n",
            "Test set: Average loss: 0.0289, Accuracy: 9915/10000 (99.15%)\n",
            "\n",
            "Epoch: 6\n"
          ],
          "name": "stdout"
        },
        {
          "output_type": "stream",
          "text": [
            "Loss=0.038600027561187744 Batch_id=937 Accuracy=98.99: 100%|██████████| 938/938 [00:16<00:00, 55.61it/s]\n",
            "  0%|          | 0/938 [00:00<?, ?it/s]"
          ],
          "name": "stderr"
        },
        {
          "output_type": "stream",
          "text": [
            "\n",
            "Test set: Average loss: 0.0274, Accuracy: 9911/10000 (99.11%)\n",
            "\n",
            "Epoch: 7\n"
          ],
          "name": "stdout"
        },
        {
          "output_type": "stream",
          "text": [
            "Loss=0.0012620985507965088 Batch_id=937 Accuracy=99.04: 100%|██████████| 938/938 [00:16<00:00, 56.83it/s]\n",
            "  0%|          | 0/938 [00:00<?, ?it/s]"
          ],
          "name": "stderr"
        },
        {
          "output_type": "stream",
          "text": [
            "\n",
            "Test set: Average loss: 0.0355, Accuracy: 9875/10000 (98.75%)\n",
            "\n",
            "Epoch: 8\n"
          ],
          "name": "stdout"
        },
        {
          "output_type": "stream",
          "text": [
            "Loss=0.008495211601257324 Batch_id=937 Accuracy=99.13: 100%|██████████| 938/938 [00:17<00:00, 54.16it/s]\n",
            "  0%|          | 0/938 [00:00<?, ?it/s]"
          ],
          "name": "stderr"
        },
        {
          "output_type": "stream",
          "text": [
            "\n",
            "Test set: Average loss: 0.0280, Accuracy: 9918/10000 (99.18%)\n",
            "\n",
            "Epoch: 9\n"
          ],
          "name": "stdout"
        },
        {
          "output_type": "stream",
          "text": [
            "Loss=0.16989462077617645 Batch_id=937 Accuracy=99.15: 100%|██████████| 938/938 [00:17<00:00, 54.75it/s]\n",
            "  0%|          | 0/938 [00:00<?, ?it/s]"
          ],
          "name": "stderr"
        },
        {
          "output_type": "stream",
          "text": [
            "\n",
            "Test set: Average loss: 0.0329, Accuracy: 9904/10000 (99.04%)\n",
            "\n",
            "Epoch: 10\n"
          ],
          "name": "stdout"
        },
        {
          "output_type": "stream",
          "text": [
            "Loss=0.0014285296201705933 Batch_id=937 Accuracy=99.20: 100%|██████████| 938/938 [00:16<00:00, 55.33it/s]\n",
            "  0%|          | 0/938 [00:00<?, ?it/s]"
          ],
          "name": "stderr"
        },
        {
          "output_type": "stream",
          "text": [
            "\n",
            "Test set: Average loss: 0.0297, Accuracy: 9901/10000 (99.01%)\n",
            "\n",
            "Epoch: 11\n"
          ],
          "name": "stdout"
        },
        {
          "output_type": "stream",
          "text": [
            "Loss=0.008971720933914185 Batch_id=937 Accuracy=99.24: 100%|██████████| 938/938 [00:17<00:00, 53.65it/s]\n",
            "  0%|          | 0/938 [00:00<?, ?it/s]"
          ],
          "name": "stderr"
        },
        {
          "output_type": "stream",
          "text": [
            "\n",
            "Test set: Average loss: 0.0228, Accuracy: 9925/10000 (99.25%)\n",
            "\n",
            "Epoch: 12\n"
          ],
          "name": "stdout"
        },
        {
          "output_type": "stream",
          "text": [
            "Loss=0.0012665987014770508 Batch_id=937 Accuracy=99.27: 100%|██████████| 938/938 [00:17<00:00, 54.47it/s]\n",
            "  0%|          | 0/938 [00:00<?, ?it/s]"
          ],
          "name": "stderr"
        },
        {
          "output_type": "stream",
          "text": [
            "\n",
            "Test set: Average loss: 0.0235, Accuracy: 9931/10000 (99.31%)\n",
            "\n",
            "Epoch: 13\n"
          ],
          "name": "stdout"
        },
        {
          "output_type": "stream",
          "text": [
            "Loss=0.02063608169555664 Batch_id=937 Accuracy=99.31: 100%|██████████| 938/938 [00:16<00:00, 55.24it/s]\n",
            "  0%|          | 0/938 [00:00<?, ?it/s]"
          ],
          "name": "stderr"
        },
        {
          "output_type": "stream",
          "text": [
            "\n",
            "Test set: Average loss: 0.0221, Accuracy: 9933/10000 (99.33%)\n",
            "\n",
            "Epoch: 14\n"
          ],
          "name": "stdout"
        },
        {
          "output_type": "stream",
          "text": [
            "Loss=0.0005566179752349854 Batch_id=937 Accuracy=99.34: 100%|██████████| 938/938 [00:17<00:00, 53.80it/s]\n",
            "  0%|          | 0/938 [00:00<?, ?it/s]"
          ],
          "name": "stderr"
        },
        {
          "output_type": "stream",
          "text": [
            "\n",
            "Test set: Average loss: 0.0276, Accuracy: 9905/10000 (99.05%)\n",
            "\n",
            "Epoch: 15\n"
          ],
          "name": "stdout"
        },
        {
          "output_type": "stream",
          "text": [
            "Loss=0.0019320249557495117 Batch_id=937 Accuracy=99.34: 100%|██████████| 938/938 [00:16<00:00, 56.58it/s]\n"
          ],
          "name": "stderr"
        },
        {
          "output_type": "stream",
          "text": [
            "\n",
            "Test set: Average loss: 0.0212, Accuracy: 9938/10000 (99.38%)\n",
            "\n"
          ],
          "name": "stdout"
        }
      ]
    },
    {
      "cell_type": "code",
      "metadata": {
        "id": "RRiSjajTObsH",
        "colab_type": "code",
        "colab": {
          "base_uri": "https://localhost:8080/",
          "height": 621
        },
        "outputId": "a28e80ac-4b75-48e4-e61f-019a1d08360f"
      },
      "source": [
        "fig= plt.figure(figsize=(12,10))\n",
        "ax= fig.add_subplot(1,1,1)\n",
        "#ax.plot( train_acc, color='red')\n",
        "ax.plot(test_acc, color='blue',label='test')\n",
        "#ax2=fig.add_subplot(1,2,2)\n",
        "ax.plot( train_acc, color='red',label='train')\n",
        "ax.legend()\n",
        "ax.set_ylim(97,100)\n",
        "ax.set_xlabel('Epoch')\n",
        "ax.set_ylabel('Accuracy %')\n",
        "ax.set_title('Learning Curve')\n",
        "plt.show()"
      ],
      "execution_count": 16,
      "outputs": [
        {
          "output_type": "display_data",
          "data": {
            "image/png": "[encoded data removed]",
            "text/plain": [
              "<Figure size 864x720 with 1 Axes>"
            ]
          },
          "metadata": {
            "tags": []
          }
        }
      ]
    },
    {
      "cell_type": "markdown",
      "metadata": {
        "id": "2Z7dY1aBxOw1",
        "colab_type": "text"
      },
      "source": [
        "# Inference Code 1:\n",
        "## Target:\n",
        "- Visualise the data\n",
        "- Setup data loader and transforms\n",
        "- Get the architecture right under 10k Params\n",
        "- Dry run with approximately good learning rate.\n",
        "\n",
        "## Results:\n",
        "- Total params: 7,458\n",
        "- Train accuracy in last epoch: 99.34\n",
        "- Test accuracy in last epoch : 99.38%\n",
        "- Best test accuracy seen: 99.38%\n",
        "\n",
        "## Analysis:\n",
        "- Model is performing well, overfitting observed only in few epochs\n",
        "- Can improve the model by adding data agumentation"
      ]
    },
    {
      "cell_type": "code",
      "metadata": {
        "id": "u_6MXdNey2yw",
        "colab_type": "code",
        "colab": {}
      },
      "source": [
        ""
      ],
      "execution_count": 0,
      "outputs": []
    }
  ]
}