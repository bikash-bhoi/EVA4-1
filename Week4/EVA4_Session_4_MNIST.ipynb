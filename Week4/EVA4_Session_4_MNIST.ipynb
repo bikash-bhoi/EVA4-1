{
  "nbformat": 4,
  "nbformat_minor": 0,
  "metadata": {
    "colab": {
      "name": "EVA4_Session_2 (1).ipynb",
      "provenance": [],
      "collapsed_sections": [],
      "include_colab_link": true
    },
    "kernelspec": {
      "name": "python3",
      "display_name": "Python 3"
    },
    "accelerator": "GPU"
  },
  "cells": [
    {
      "cell_type": "markdown",
      "metadata": {
        "id": "view-in-github",
        "colab_type": "text"
      },
      "source": [
        "<a href=\"https://colab.research.google.com/github/deepakgowtham/EVA4/blob/master/Week4/EVA4_Session_2_(1).ipynb\" target=\"_parent\"><img src=\"https://colab.research.google.com/assets/colab-badge.svg\" alt=\"Open In Colab\"/></a>"
      ]
    },
    {
      "cell_type": "code",
      "metadata": {
        "id": "0m2JWFliFfKT",
        "colab_type": "code",
        "colab": {}
      },
      "source": [
        "from __future__ import print_function\n",
        "import torch\n",
        "import torch.nn as nn\n",
        "import torch.nn.functional as F\n",
        "import torch.optim as optim\n",
        "from torchvision import datasets, transforms\n",
        "from torch.optim.lr_scheduler import StepLR"
      ],
      "execution_count": 0,
      "outputs": []
    },
    {
      "cell_type": "code",
      "metadata": {
        "id": "h_Cx9q2QFgM7",
        "colab_type": "code",
        "colab": {}
      },
      "source": [
        "class Net(nn.Module):\n",
        "    def __init__(self):\n",
        "        super(Net, self).__init__()\n",
        "        self.conv1 = nn.Conv2d(1, 8, 3, padding=1) #28, 28 3\n",
        "        self.conv2 = nn.Conv2d(8, 16, 3, padding=1) #28, 28, 5\n",
        "        self.pool1 = nn.MaxPool2d(2, 2)              #28, 14, 6\n",
        "        self.conv3 = nn.Conv2d(16, 8, 3, padding=1) #14, 14, 10\n",
        "        self.conv4 = nn.Conv2d(8, 16, 3, padding=1) #14, 14, 14\n",
        "        self.pool2 = nn.MaxPool2d(2, 2)               #14, 7, 16\n",
        "        self.conv5 = nn.Conv2d(16, 8, 3) #7, 5, 24\n",
        "        self.conv6 = nn.Conv2d(8, 16, 3) # 5, 3, 32\n",
        "        self.conv7 = nn.Conv2d(16, 10, 3) #3, 1, 40\n",
        "        \n",
        "        \n",
        "\n",
        "    def forward(self, x):\n",
        "        x = self.pool1(F.relu(self.conv2(F.relu(self.conv1(x)))))\n",
        "        x = self.pool2(F.relu(self.conv4(F.relu(self.conv3(x)))))\n",
        "        x = F.relu(self.conv6(F.relu(self.conv5(x))))\n",
        "        x = (self.conv7(x))\n",
        "        \n",
        "        x = x.view(-1, 10)\n",
        "        return F.log_softmax(x)"
      ],
      "execution_count": 0,
      "outputs": []
    },
    {
      "cell_type": "code",
      "metadata": {
        "id": "Ee_K7a6nZxD1",
        "colab_type": "code",
        "colab": {}
      },
      "source": [
        "class Net2(nn.Module):\n",
        "  def __init__(self):\n",
        "    super(Net2, self).__init__()\n",
        "    self.conv0 = nn.Conv2d(1, 8, 3, padding=1)\n",
        "    self.bn1 = nn.BatchNorm2d(8)\n",
        "    self.drop1=nn.Dropout(0.1)\n",
        "    self.conv2 = nn.Conv2d(8, 16, 3, padding=1)\n",
        "    self.conv4 = nn.Conv2d(8, 16, 3, padding=1)\n",
        "    self.bn2 = nn.BatchNorm2d(16)\n",
        "    self.drop2=nn.Dropout(0.1)\n",
        "    self.pool1 = nn.MaxPool2d(2, 2)\n",
        "    self.bn3 = nn.BatchNorm2d(8)\n",
        "    self.conv3=nn.Conv2d(16, 32, 3, padding=1)\n",
        "    self.conv1= nn.Conv2d(8, 8, 3, padding=1)\n",
        "    self.conv7=nn.Conv2d(10,10,7)\n",
        "    self.pool = nn.MaxPool2d(2, 2)\n",
        "    self.bn4 = nn.BatchNorm2d(8)\n",
        "    self.bn5 = nn.BatchNorm2d(16)\n",
        "    self.bn8 = nn.BatchNorm2d(8)              \n",
        "    self.bn16 = nn.BatchNorm2d(16)\n",
        "    self.bn32 = nn.BatchNorm2d(32)\n",
        "    self.bn6 = nn.BatchNorm2d(32)\n",
        "    self.bn64 = nn.BatchNorm2d(64)\n",
        "    self.bn10= nn.BatchNorm2d(10)\n",
        "    self.bn11= nn.BatchNorm2d(10)  \n",
        "    self.conv118=nn.Conv2d(16, 8, 1)\n",
        "    self.conv1110=nn.Conv2d(32, 10, 1)\n",
        "    self.gap = nn.AvgPool2d(7)\n",
        "    self.drop=nn.Dropout(0.1)\n",
        "    self.drop3=nn.Dropout(0.1)\n",
        "    self.drop4=nn.Dropout(0.1)\n",
        "    self.drop5=nn.Dropout(0.1)\n",
        "\n",
        "  def forward(self, x):\n",
        "    x=self.drop1(self.bn1((F.relu(self.conv0(x)))))\n",
        "    x=self.drop2(self.bn2((F.relu(self.conv2(x)))))\n",
        "    #x=self.drop(self.bn32((F.relu(self.conv3(x)))))\n",
        "    x=self.bn3(F.relu(self.conv118(self.pool1(x))))\n",
        "        \n",
        "    x=self.drop3(self.bn4(F.relu(self.conv1(x))))\n",
        "    x=self.drop4(self.bn5((F.relu(self.conv4(x)))))\n",
        "    x=self.drop5(self.bn6((F.relu(self.conv3(x)))))\n",
        "    x=self.bn11(self.conv7(self.bn10(F.relu(self.conv1110(self.pool(x))))))\n",
        "    x = x.view(-1, 10)\n",
        "    return F.log_softmax(x)\n"
      ],
      "execution_count": 0,
      "outputs": []
    },
    {
      "cell_type": "code",
      "metadata": {
        "colab_type": "code",
        "id": "xdydjYTZFyi3",
        "outputId": "3a6d8828-3a70-4427-be54-6a4849223fbe",
        "colab": {
          "base_uri": "https://localhost:8080/",
          "height": 683
        }
      },
      "source": [
        "!pip install torchsummary\n",
        "from torchsummary import summary\n",
        "use_cuda = torch.cuda.is_available()\n",
        "device = torch.device(\"cuda\" if use_cuda else \"cpu\")\n",
        "model = Net2().to(device)\n",
        "summary(model, input_size=(1, 28, 28))"
      ],
      "execution_count": 4,
      "outputs": [
        {
          "output_type": "stream",
          "text": [
            "Requirement already satisfied: torchsummary in /usr/local/lib/python3.6/dist-packages (1.5.1)\n",
            "----------------------------------------------------------------\n",
            "        Layer (type)               Output Shape         Param #\n",
            "================================================================\n",
            "            Conv2d-1            [-1, 8, 28, 28]              80\n",
            "       BatchNorm2d-2            [-1, 8, 28, 28]              16\n",
            "           Dropout-3            [-1, 8, 28, 28]               0\n",
            "            Conv2d-4           [-1, 16, 28, 28]           1,168\n",
            "       BatchNorm2d-5           [-1, 16, 28, 28]              32\n",
            "           Dropout-6           [-1, 16, 28, 28]               0\n",
            "         MaxPool2d-7           [-1, 16, 14, 14]               0\n",
            "            Conv2d-8            [-1, 8, 14, 14]             136\n",
            "       BatchNorm2d-9            [-1, 8, 14, 14]              16\n",
            "           Conv2d-10            [-1, 8, 14, 14]             584\n",
            "      BatchNorm2d-11            [-1, 8, 14, 14]              16\n",
            "          Dropout-12            [-1, 8, 14, 14]               0\n",
            "           Conv2d-13           [-1, 16, 14, 14]           1,168\n",
            "      BatchNorm2d-14           [-1, 16, 14, 14]              32\n",
            "          Dropout-15           [-1, 16, 14, 14]               0\n",
            "           Conv2d-16           [-1, 32, 14, 14]           4,640\n",
            "      BatchNorm2d-17           [-1, 32, 14, 14]              64\n",
            "          Dropout-18           [-1, 32, 14, 14]               0\n",
            "        MaxPool2d-19             [-1, 32, 7, 7]               0\n",
            "           Conv2d-20             [-1, 10, 7, 7]             330\n",
            "      BatchNorm2d-21             [-1, 10, 7, 7]              20\n",
            "           Conv2d-22             [-1, 10, 1, 1]           4,910\n",
            "      BatchNorm2d-23             [-1, 10, 1, 1]              20\n",
            "================================================================\n",
            "Total params: 13,232\n",
            "Trainable params: 13,232\n",
            "Non-trainable params: 0\n",
            "----------------------------------------------------------------\n",
            "Input size (MB): 0.00\n",
            "Forward/backward pass size (MB): 0.75\n",
            "Params size (MB): 0.05\n",
            "Estimated Total Size (MB): 0.80\n",
            "----------------------------------------------------------------\n"
          ],
          "name": "stdout"
        },
        {
          "output_type": "stream",
          "text": [
            "/usr/local/lib/python3.6/dist-packages/ipykernel_launcher.py:45: UserWarning: Implicit dimension choice for log_softmax has been deprecated. Change the call to include dim=X as an argument.\n"
          ],
          "name": "stderr"
        }
      ]
    },
    {
      "cell_type": "code",
      "metadata": {
        "id": "DqTWLaM5GHgH",
        "colab_type": "code",
        "colab": {}
      },
      "source": [
        "\n",
        "\n",
        "torch.manual_seed(1)\n",
        "batch_size = 64\n",
        "\n",
        "kwargs = {'num_workers': 1, 'pin_memory': True} if use_cuda else {}\n",
        "train_loader = torch.utils.data.DataLoader(\n",
        "    datasets.MNIST('../data', train=True, download=True,\n",
        "                    transform=transforms.Compose([\n",
        "                        transforms.ToTensor(),\n",
        "                        transforms.Normalize((0.1307,), (0.3081,))\n",
        "                    ])),\n",
        "    batch_size=batch_size, shuffle=True, **kwargs)\n",
        "test_loader = torch.utils.data.DataLoader(\n",
        "    datasets.MNIST('../data', train=False, transform=transforms.Compose([\n",
        "                        transforms.ToTensor(),\n",
        "                        transforms.Normalize((0.1307,), (0.3081,))\n",
        "                    ])),\n",
        "    batch_size=batch_size, shuffle=True, **kwargs)\n"
      ],
      "execution_count": 0,
      "outputs": []
    },
    {
      "cell_type": "code",
      "metadata": {
        "id": "8fDefDhaFlwH",
        "colab_type": "code",
        "colab": {}
      },
      "source": [
        "from tqdm import tqdm\n",
        "def train(model, device, train_loader, optimizer, epoch):\n",
        "    model.train()\n",
        "    pbar = tqdm(train_loader)\n",
        "    for batch_idx, (data, target) in enumerate(pbar):\n",
        "        data, target = data.to(device), target.to(device)\n",
        "        optimizer.zero_grad()\n",
        "        output = model(data)\n",
        "        loss = F.nll_loss(output, target)\n",
        "        loss.backward()\n",
        "        optimizer.step()\n",
        "        pbar.set_description(desc= f'loss={loss.item()} batch_id={batch_idx}')\n",
        "\n",
        "\n",
        "def test(model, device, test_loader):\n",
        "    model.eval()\n",
        "    test_loss = 0\n",
        "    correct = 0\n",
        "    with torch.no_grad():\n",
        "        for data, target in test_loader:\n",
        "            data, target = data.to(device), target.to(device)\n",
        "            #optimizer.zero_grad()\n",
        "            output = model(data)\n",
        "            \n",
        "            test_loss += F.nll_loss(output, target, reduction='sum').item()  # sum up batch loss\n",
        "            pred = output.argmax(dim=1, keepdim=True)  # get the index of the max log-probability\n",
        "            correct += pred.eq(target.view_as(pred)).sum().item()\n",
        "\n",
        "    test_loss /= len(test_loader.dataset)\n",
        "\n",
        "    print('\\nTest set: Average loss: {:.4f}, Accuracy: {}/{} ({:.4f}%)\\n'.format(\n",
        "        test_loss, correct, len(test_loader.dataset),\n",
        "        100. * correct / len(test_loader.dataset)))"
      ],
      "execution_count": 0,
      "outputs": []
    },
    {
      "cell_type": "code",
      "metadata": {
        "id": "MMWbLWO6FuHb",
        "colab_type": "code",
        "outputId": "44581723-14c2-4c42-ebe9-a9f39656cf2a",
        "colab": {
          "base_uri": "https://localhost:8080/",
          "height": 1000
        }
      },
      "source": [
        "\n",
        "model = Net2().to(device)\n",
        "optimizer = optim.SGD(model.parameters(), lr=0.1)\n",
        "scheduler = StepLR(optimizer, step_size=1, gamma=0.83)\n",
        "\n",
        "for epoch in range(1, 21):\n",
        "    print(f'Epoch: {epoch}','LR:', scheduler.get_lr())\n",
        "    train(model, device, train_loader, optimizer, epoch)\n",
        "    test(model, device, test_loader)\n",
        "    scheduler.step()"
      ],
      "execution_count": 7,
      "outputs": [
        {
          "output_type": "stream",
          "text": [
            "\r  0%|          | 0/938 [00:00<?, ?it/s]"
          ],
          "name": "stderr"
        },
        {
          "output_type": "stream",
          "text": [
            "Epoch: 1 LR: [0.1]\n"
          ],
          "name": "stdout"
        },
        {
          "output_type": "stream",
          "text": [
            "/usr/local/lib/python3.6/dist-packages/ipykernel_launcher.py:45: UserWarning: Implicit dimension choice for log_softmax has been deprecated. Change the call to include dim=X as an argument.\n",
            "loss=0.06926527619361877 batch_id=937: 100%|██████████| 938/938 [00:24<00:00, 37.81it/s]\n",
            "  0%|          | 0/938 [00:00<?, ?it/s]"
          ],
          "name": "stderr"
        },
        {
          "output_type": "stream",
          "text": [
            "\n",
            "Test set: Average loss: 0.0674, Accuracy: 9849/10000 (98.4900%)\n",
            "\n",
            "Epoch: 2 LR: [0.06889]\n"
          ],
          "name": "stdout"
        },
        {
          "output_type": "stream",
          "text": [
            "loss=0.03698764741420746 batch_id=937: 100%|██████████| 938/938 [00:24<00:00, 37.86it/s]\n",
            "  0%|          | 0/938 [00:00<?, ?it/s]"
          ],
          "name": "stderr"
        },
        {
          "output_type": "stream",
          "text": [
            "\n",
            "Test set: Average loss: 0.0449, Accuracy: 9893/10000 (98.9300%)\n",
            "\n",
            "Epoch: 3 LR: [0.057178700000000006]\n"
          ],
          "name": "stdout"
        },
        {
          "output_type": "stream",
          "text": [
            "loss=0.16268685460090637 batch_id=937: 100%|██████████| 938/938 [00:24<00:00, 37.88it/s]\n",
            "  0%|          | 0/938 [00:00<?, ?it/s]"
          ],
          "name": "stderr"
        },
        {
          "output_type": "stream",
          "text": [
            "\n",
            "Test set: Average loss: 0.0586, Accuracy: 9859/10000 (98.5900%)\n",
            "\n",
            "Epoch: 4 LR: [0.047458321000000005]\n"
          ],
          "name": "stdout"
        },
        {
          "output_type": "stream",
          "text": [
            "loss=0.013571202754974365 batch_id=937: 100%|██████████| 938/938 [00:24<00:00, 38.47it/s]\n",
            "  0%|          | 0/938 [00:00<?, ?it/s]"
          ],
          "name": "stderr"
        },
        {
          "output_type": "stream",
          "text": [
            "\n",
            "Test set: Average loss: 0.0318, Accuracy: 9913/10000 (99.1300%)\n",
            "\n",
            "Epoch: 5 LR: [0.039390406430000004]\n"
          ],
          "name": "stdout"
        },
        {
          "output_type": "stream",
          "text": [
            "loss=0.011929810047149658 batch_id=937: 100%|██████████| 938/938 [00:24<00:00, 36.46it/s]\n",
            "  0%|          | 0/938 [00:00<?, ?it/s]"
          ],
          "name": "stderr"
        },
        {
          "output_type": "stream",
          "text": [
            "\n",
            "Test set: Average loss: 0.0346, Accuracy: 9909/10000 (99.0900%)\n",
            "\n",
            "Epoch: 6 LR: [0.0326940373369]\n"
          ],
          "name": "stdout"
        },
        {
          "output_type": "stream",
          "text": [
            "loss=0.03310397267341614 batch_id=937: 100%|██████████| 938/938 [00:24<00:00, 37.86it/s]\n",
            "  0%|          | 0/938 [00:00<?, ?it/s]"
          ],
          "name": "stderr"
        },
        {
          "output_type": "stream",
          "text": [
            "\n",
            "Test set: Average loss: 0.0286, Accuracy: 9932/10000 (99.3200%)\n",
            "\n",
            "Epoch: 7 LR: [0.027136050989627]\n"
          ],
          "name": "stdout"
        },
        {
          "output_type": "stream",
          "text": [
            "loss=0.08332319557666779 batch_id=937: 100%|██████████| 938/938 [00:24<00:00, 37.74it/s]\n",
            "  0%|          | 0/938 [00:00<?, ?it/s]"
          ],
          "name": "stderr"
        },
        {
          "output_type": "stream",
          "text": [
            "\n",
            "Test set: Average loss: 0.0301, Accuracy: 9927/10000 (99.2700%)\n",
            "\n",
            "Epoch: 8 LR: [0.022522922321390408]\n"
          ],
          "name": "stdout"
        },
        {
          "output_type": "stream",
          "text": [
            "loss=0.06952870637178421 batch_id=937: 100%|██████████| 938/938 [00:24<00:00, 37.89it/s]\n",
            "  0%|          | 0/938 [00:00<?, ?it/s]"
          ],
          "name": "stderr"
        },
        {
          "output_type": "stream",
          "text": [
            "\n",
            "Test set: Average loss: 0.0269, Accuracy: 9933/10000 (99.3300%)\n",
            "\n",
            "Epoch: 9 LR: [0.01869402552675404]\n"
          ],
          "name": "stdout"
        },
        {
          "output_type": "stream",
          "text": [
            "loss=0.031455956399440765 batch_id=937: 100%|██████████| 938/938 [00:24<00:00, 37.83it/s]\n",
            "  0%|          | 0/938 [00:00<?, ?it/s]"
          ],
          "name": "stderr"
        },
        {
          "output_type": "stream",
          "text": [
            "\n",
            "Test set: Average loss: 0.0272, Accuracy: 9925/10000 (99.2500%)\n",
            "\n",
            "Epoch: 10 LR: [0.015516041187205851]\n"
          ],
          "name": "stdout"
        },
        {
          "output_type": "stream",
          "text": [
            "loss=0.025822609663009644 batch_id=937: 100%|██████████| 938/938 [00:24<00:00, 37.74it/s]\n",
            "  0%|          | 0/938 [00:00<?, ?it/s]"
          ],
          "name": "stderr"
        },
        {
          "output_type": "stream",
          "text": [
            "\n",
            "Test set: Average loss: 0.0260, Accuracy: 9928/10000 (99.2800%)\n",
            "\n",
            "Epoch: 11 LR: [0.012878314185380857]\n"
          ],
          "name": "stdout"
        },
        {
          "output_type": "stream",
          "text": [
            "loss=0.0372324138879776 batch_id=937: 100%|██████████| 938/938 [00:24<00:00, 38.20it/s]\n",
            "  0%|          | 0/938 [00:00<?, ?it/s]"
          ],
          "name": "stderr"
        },
        {
          "output_type": "stream",
          "text": [
            "\n",
            "Test set: Average loss: 0.0240, Accuracy: 9937/10000 (99.3700%)\n",
            "\n",
            "Epoch: 12 LR: [0.01068900077386611]\n"
          ],
          "name": "stdout"
        },
        {
          "output_type": "stream",
          "text": [
            "loss=0.06214706599712372 batch_id=937: 100%|██████████| 938/938 [00:24<00:00, 37.76it/s]\n",
            "  0%|          | 0/938 [00:00<?, ?it/s]"
          ],
          "name": "stderr"
        },
        {
          "output_type": "stream",
          "text": [
            "\n",
            "Test set: Average loss: 0.0224, Accuracy: 9944/10000 (99.4400%)\n",
            "\n",
            "Epoch: 13 LR: [0.008871870642308871]\n"
          ],
          "name": "stdout"
        },
        {
          "output_type": "stream",
          "text": [
            "loss=0.03497210144996643 batch_id=937: 100%|██████████| 938/938 [00:24<00:00, 37.68it/s]\n",
            "  0%|          | 0/938 [00:00<?, ?it/s]"
          ],
          "name": "stderr"
        },
        {
          "output_type": "stream",
          "text": [
            "\n",
            "Test set: Average loss: 0.0227, Accuracy: 9941/10000 (99.4100%)\n",
            "\n",
            "Epoch: 14 LR: [0.007363652633116363]\n"
          ],
          "name": "stdout"
        },
        {
          "output_type": "stream",
          "text": [
            "loss=0.05489875376224518 batch_id=937: 100%|██████████| 938/938 [00:24<00:00, 37.84it/s]\n",
            "  0%|          | 0/938 [00:00<?, ?it/s]"
          ],
          "name": "stderr"
        },
        {
          "output_type": "stream",
          "text": [
            "\n",
            "Test set: Average loss: 0.0236, Accuracy: 9938/10000 (99.3800%)\n",
            "\n",
            "Epoch: 15 LR: [0.006111831685486581]\n"
          ],
          "name": "stdout"
        },
        {
          "output_type": "stream",
          "text": [
            "loss=0.04191295802593231 batch_id=937: 100%|██████████| 938/938 [00:24<00:00, 38.05it/s]\n",
            "  0%|          | 0/938 [00:00<?, ?it/s]"
          ],
          "name": "stderr"
        },
        {
          "output_type": "stream",
          "text": [
            "\n",
            "Test set: Average loss: 0.0248, Accuracy: 9930/10000 (99.3000%)\n",
            "\n",
            "Epoch: 16 LR: [0.005072820298953862]\n"
          ],
          "name": "stdout"
        },
        {
          "output_type": "stream",
          "text": [
            "loss=0.013157263398170471 batch_id=937: 100%|██████████| 938/938 [00:24<00:00, 37.75it/s]\n",
            "  0%|          | 0/938 [00:00<?, ?it/s]"
          ],
          "name": "stderr"
        },
        {
          "output_type": "stream",
          "text": [
            "\n",
            "Test set: Average loss: 0.0235, Accuracy: 9939/10000 (99.3900%)\n",
            "\n",
            "Epoch: 17 LR: [0.004210440848131706]\n"
          ],
          "name": "stdout"
        },
        {
          "output_type": "stream",
          "text": [
            "loss=0.05103238672018051 batch_id=937: 100%|██████████| 938/938 [00:24<00:00, 37.73it/s]\n",
            "  0%|          | 0/938 [00:00<?, ?it/s]"
          ],
          "name": "stderr"
        },
        {
          "output_type": "stream",
          "text": [
            "\n",
            "Test set: Average loss: 0.0234, Accuracy: 9941/10000 (99.4100%)\n",
            "\n",
            "Epoch: 18 LR: [0.0034946659039493157]\n"
          ],
          "name": "stdout"
        },
        {
          "output_type": "stream",
          "text": [
            "loss=0.16504855453968048 batch_id=937: 100%|██████████| 938/938 [00:24<00:00, 37.65it/s]\n",
            "  0%|          | 0/938 [00:00<?, ?it/s]"
          ],
          "name": "stderr"
        },
        {
          "output_type": "stream",
          "text": [
            "\n",
            "Test set: Average loss: 0.0227, Accuracy: 9940/10000 (99.4000%)\n",
            "\n",
            "Epoch: 19 LR: [0.0029005727002779317]\n"
          ],
          "name": "stdout"
        },
        {
          "output_type": "stream",
          "text": [
            "loss=0.3124217391014099 batch_id=937: 100%|██████████| 938/938 [00:24<00:00, 38.01it/s]\n",
            "  0%|          | 0/938 [00:00<?, ?it/s]"
          ],
          "name": "stderr"
        },
        {
          "output_type": "stream",
          "text": [
            "\n",
            "Test set: Average loss: 0.0221, Accuracy: 9938/10000 (99.3800%)\n",
            "\n",
            "Epoch: 20 LR: [0.002407475341230683]\n"
          ],
          "name": "stdout"
        },
        {
          "output_type": "stream",
          "text": [
            "loss=0.06719952821731567 batch_id=937: 100%|██████████| 938/938 [00:24<00:00, 38.20it/s]\n"
          ],
          "name": "stderr"
        },
        {
          "output_type": "stream",
          "text": [
            "\n",
            "Test set: Average loss: 0.0241, Accuracy: 9933/10000 (99.3300%)\n",
            "\n"
          ],
          "name": "stdout"
        }
      ]
    },
    {
      "cell_type": "code",
      "metadata": {
        "id": "So5uk4EkHW6R",
        "colab_type": "code",
        "outputId": "3799b329-6807-4123-a746-e98c4f952842",
        "colab": {
          "base_uri": "https://localhost:8080/",
          "height": 34
        }
      },
      "source": [
        "9903/10000"
      ],
      "execution_count": 0,
      "outputs": [
        {
          "output_type": "execute_result",
          "data": {
            "text/plain": [
              "0.9903"
            ]
          },
          "metadata": {
            "tags": []
          },
          "execution_count": 16
        }
      ]
    },
    {
      "cell_type": "code",
      "metadata": {
        "id": "RRiSjajTObsH",
        "colab_type": "code",
        "colab": {}
      },
      "source": [
        "model=None"
      ],
      "execution_count": 0,
      "outputs": []
    },
    {
      "cell_type": "code",
      "metadata": {
        "id": "nOyHd7O4a1eA",
        "colab_type": "code",
        "colab": {}
      },
      "source": [
        ""
      ],
      "execution_count": 0,
      "outputs": []
    }
  ]
}
